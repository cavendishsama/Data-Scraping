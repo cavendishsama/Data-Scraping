{
 "cells": [
  {
   "cell_type": "code",
   "execution_count": 1,
   "metadata": {},
   "outputs": [
    {
     "name": "stdout",
     "output_type": "stream",
     "text": [
      "{'full-text-retrieval-response': {'coredata': {'prism:url': 'https://api.elsevier.com/content/article/pii/S0021929020302207', 'dc:identifier': 'doi:10.1016/j.jbiomech.2020.109800', 'eid': '1-s2.0-S0021929020302207', 'prism:doi': '10.1016/j.jbiomech.2020.109800', 'pii': 'S0021-9290(20)30220-7', 'dc:title': 'Effect of foods on selected dynamic parameters of mandibular elevator muscles during symmetric incisal biting ', 'prism:publicationName': 'Journal of Biomechanics', 'prism:aggregationType': 'Journal', 'pubType': 'fla', 'prism:issn': '00219290', 'prism:volume': '106', 'prism:startingPage': '109800', 'prism:pageRange': '109800', 'articleNumber': '109800', 'dc:format': 'application/json', 'prism:coverDate': '2020-06-09', 'prism:coverDisplayDate': '9 June 2020', 'prism:copyright': '© 2020 Published by Elsevier Ltd.', 'prism:publisher': 'Published by Elsevier Ltd.', 'dc:creator': [{'@_fa': 'true', '$': 'Stróżyk, Przemysław'}, {'@_fa': 'true', '$': 'Jacek, Bałchanowski'}], 'dc:description': '\\n                  The paper focuses on research that enables the relationship between food and selected mechanical parameters do be determined. The main aim of the study was to designate, depending on the food: (1) the work of a single muscle (i.e. masseter, medial pterygoid, temporalis), and (2) the energy balance of mandibular elevator muscles based on the dynamic patterns of muscles. In turn, the indirect goal was to determine: (1) the muscle contraction, and (2) the average muscle contraction velocity based on the specified kinematic parameters, i.e. incisal biting velocity and incisal biting time.\\n                  A hybrid model, consisting of a phenomenological model of the masticatory system and a behavioural model of incisal biting, was used in the calculations. The phenomenological model was based on an anatomically and physiologically normal mandible and healthy muscles, while the behavioural model was represented by the dynamic patterns of food.\\n                  Calculations showed that muscle force is an important, but not the only, parameter that enables the quantitative and qualitative assessment of the functioning of the mandibular elevator muscles during symmetric incisal biting. Based on the obtained results, it can be stated that the dynamic patterns of muscles are a very important parameter, because on their basis, among others, muscle contraction, contraction time, work, and energy can be determined. The conducted calculations and analyses showed that the above-mentioned parameters depend on the mechanical properties of food (the dynamic patterns of food).\\n               ', 'openaccess': '0', 'openaccessArticle': False, 'openaccessType': None, 'openArchiveArticle': False, 'openaccessSponsorName': None, 'openaccessSponsorType': None, 'openaccessUserLicense': None, 'dcterms:subject': [{'@_fa': 'true', '$': 'Mandibular elevator muscles'}, {'@_fa': 'true', '$': 'Muscle contraction'}, {'@_fa': 'true', '$': 'Muscle work'}, {'@_fa': 'true', '$': 'Dynamic patterns of muscles'}], 'link': [{'@href': 'https://api.elsevier.com/content/article/pii/S0021929020302207', '@rel': 'self', '@_fa': 'true'}, {'@href': 'https://www.sciencedirect.com/science/article/pii/S0021929020302207', '@rel': 'scidir', '@_fa': 'true'}]}, 'scopus-id': '85086354202', 'scopus-eid': '2-s2.0-85086354202', 'pubmed-id': '32517980', 'link': {'@href': 'https://api.elsevier.com/content/abstract/scopus_id/85086354202', '@rel': 'abstract'}, 'originalText': {'xocs:doc': {'xocs:meta': {'xocs:open-access': {'xocs:oa-article-status': {'@is-open-access': '0', '@is-open-archive': '0'}}, 'xocs:available-online-date': {'@yyyymmdd': '20200420', '$': '2020-04-20'}}}}}}\n"
     ]
    }
   ],
   "source": [
    "import requests\n",
    "\n",
    "doi = \"10.1016/j.jbiomech.2020.109800\"  # Replace with your DOI\n",
    "api_key = \"d36f353dfe7a31739e6b1aa7289eee30\"  # Replace with your ScienceDirect API key\n",
    "url = f\"https://api.elsevier.com/content/article/doi/{doi}\"\n",
    "\n",
    "headers = {\n",
    "    'Accept': 'application/json',\n",
    "    'X-ELS-APIKey': api_key\n",
    "}\n",
    "\n",
    "response = requests.get(url, headers=headers)\n",
    "\n",
    "if response.status_code == 200:\n",
    "    data = response.json()\n",
    "    print(data)\n",
    "else:\n",
    "    print(f\"Error: {response.status_code}, {response.text}\")\n"
   ]
  },
  {
   "cell_type": "code",
   "execution_count": 2,
   "metadata": {},
   "outputs": [
    {
     "data": {
      "text/plain": [
       "{'full-text-retrieval-response': {'coredata': {'prism:url': 'https://api.elsevier.com/content/article/pii/S0021929020302207',\n",
       "   'dc:identifier': 'doi:10.1016/j.jbiomech.2020.109800',\n",
       "   'eid': '1-s2.0-S0021929020302207',\n",
       "   'prism:doi': '10.1016/j.jbiomech.2020.109800',\n",
       "   'pii': 'S0021-9290(20)30220-7',\n",
       "   'dc:title': 'Effect of foods on selected dynamic parameters of mandibular elevator muscles during symmetric incisal biting ',\n",
       "   'prism:publicationName': 'Journal of Biomechanics',\n",
       "   'prism:aggregationType': 'Journal',\n",
       "   'pubType': 'fla',\n",
       "   'prism:issn': '00219290',\n",
       "   'prism:volume': '106',\n",
       "   'prism:startingPage': '109800',\n",
       "   'prism:pageRange': '109800',\n",
       "   'articleNumber': '109800',\n",
       "   'dc:format': 'application/json',\n",
       "   'prism:coverDate': '2020-06-09',\n",
       "   'prism:coverDisplayDate': '9 June 2020',\n",
       "   'prism:copyright': '© 2020 Published by Elsevier Ltd.',\n",
       "   'prism:publisher': 'Published by Elsevier Ltd.',\n",
       "   'dc:creator': [{'@_fa': 'true', '$': 'Stróżyk, Przemysław'},\n",
       "    {'@_fa': 'true', '$': 'Jacek, Bałchanowski'}],\n",
       "   'dc:description': '\\n                  The paper focuses on research that enables the relationship between food and selected mechanical parameters do be determined. The main aim of the study was to designate, depending on the food: (1) the work of a single muscle (i.e. masseter, medial pterygoid, temporalis), and (2) the energy balance of mandibular elevator muscles based on the dynamic patterns of muscles. In turn, the indirect goal was to determine: (1) the muscle contraction, and (2) the average muscle contraction velocity based on the specified kinematic parameters, i.e. incisal biting velocity and incisal biting time.\\n                  A hybrid model, consisting of a phenomenological model of the masticatory system and a behavioural model of incisal biting, was used in the calculations. The phenomenological model was based on an anatomically and physiologically normal mandible and healthy muscles, while the behavioural model was represented by the dynamic patterns of food.\\n                  Calculations showed that muscle force is an important, but not the only, parameter that enables the quantitative and qualitative assessment of the functioning of the mandibular elevator muscles during symmetric incisal biting. Based on the obtained results, it can be stated that the dynamic patterns of muscles are a very important parameter, because on their basis, among others, muscle contraction, contraction time, work, and energy can be determined. The conducted calculations and analyses showed that the above-mentioned parameters depend on the mechanical properties of food (the dynamic patterns of food).\\n               ',\n",
       "   'openaccess': '0',\n",
       "   'openaccessArticle': False,\n",
       "   'openaccessType': None,\n",
       "   'openArchiveArticle': False,\n",
       "   'openaccessSponsorName': None,\n",
       "   'openaccessSponsorType': None,\n",
       "   'openaccessUserLicense': None,\n",
       "   'dcterms:subject': [{'@_fa': 'true', '$': 'Mandibular elevator muscles'},\n",
       "    {'@_fa': 'true', '$': 'Muscle contraction'},\n",
       "    {'@_fa': 'true', '$': 'Muscle work'},\n",
       "    {'@_fa': 'true', '$': 'Dynamic patterns of muscles'}],\n",
       "   'link': [{'@href': 'https://api.elsevier.com/content/article/pii/S0021929020302207',\n",
       "     '@rel': 'self',\n",
       "     '@_fa': 'true'},\n",
       "    {'@href': 'https://www.sciencedirect.com/science/article/pii/S0021929020302207',\n",
       "     '@rel': 'scidir',\n",
       "     '@_fa': 'true'}]},\n",
       "  'scopus-id': '85086354202',\n",
       "  'scopus-eid': '2-s2.0-85086354202',\n",
       "  'pubmed-id': '32517980',\n",
       "  'link': {'@href': 'https://api.elsevier.com/content/abstract/scopus_id/85086354202',\n",
       "   '@rel': 'abstract'},\n",
       "  'originalText': {'xocs:doc': {'xocs:meta': {'xocs:open-access': {'xocs:oa-article-status': {'@is-open-access': '0',\n",
       "       '@is-open-archive': '0'}},\n",
       "     'xocs:available-online-date': {'@yyyymmdd': '20200420',\n",
       "      '$': '2020-04-20'}}}}}}"
      ]
     },
     "execution_count": 2,
     "metadata": {},
     "output_type": "execute_result"
    }
   ],
   "source": [
    "data"
   ]
  },
  {
   "cell_type": "code",
   "execution_count": null,
   "metadata": {},
   "outputs": [],
   "source": []
  }
 ],
 "metadata": {
  "kernelspec": {
   "display_name": "Python 3",
   "language": "python",
   "name": "python3"
  },
  "language_info": {
   "codemirror_mode": {
    "name": "ipython",
    "version": 3
   },
   "file_extension": ".py",
   "mimetype": "text/x-python",
   "name": "python",
   "nbconvert_exporter": "python",
   "pygments_lexer": "ipython3",
   "version": "3.9.6"
  }
 },
 "nbformat": 4,
 "nbformat_minor": 2
}
